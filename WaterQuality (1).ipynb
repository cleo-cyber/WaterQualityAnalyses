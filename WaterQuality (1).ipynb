{
  "cells": [
    {
      "cell_type": "code",
      "execution_count": 7,
      "id": "14df6d47",
      "metadata": {
        "noteable": {
          "output_collection_id": "aae491a2-ad44-454c-b6ad-3113c458f1a0"
        },
        "ExecuteTime": {
          "end_time": "2023-11-10T09:50:09.279719+00:00",
          "start_time": "2023-11-10T09:50:09.272396+00:00"
        }
      },
      "outputs": [],
      "source": [
        "# pip install rpy2"
      ]
    },
    {
      "cell_type": "code",
      "execution_count": 5,
      "id": "178e9385",
      "metadata": {
        "noteable": {
          "output_collection_id": "33a2a908-4459-4473-8253-69561f08fe15"
        },
        "ExecuteTime": {
          "end_time": "2023-11-10T09:50:10.719032+00:00",
          "start_time": "2023-11-10T09:50:10.709540+00:00"
        }
      },
      "outputs": [],
      "source": [
        "# ipython   rkernel"
      ]
    },
    {
      "cell_type": "code",
      "execution_count": 6,
      "id": "28f4becf",
      "metadata": {
        "ExecuteTime": {
          "end_time": "2023-11-16T15:04:22.323953+00:00",
          "start_time": "2023-11-16T15:04:22.258815+00:00"
        },
        "noteable": {
          "cell_type": "python",
          "output_collection_id": "2ae86028-5267-4d60-9acd-454e8a528cef"
        }
      },
      "outputs": [],
      "source": [
        "df <- read.csv('water_potability.csv')"
      ]
    },
    {
      "cell_type": "code",
      "execution_count": null,
      "id": "bf36b1e2-883e-48e8-b6af-964e96ceae07",
      "metadata": {
        "ExecuteTime": {
          "end_time": "2023-11-16T15:04:25.646810+00:00",
          "start_time": "2023-11-16T15:04:22.748033+00:00"
        },
        "datalink": {
          "f6fcbfbd-c77b-42ea-b443-2a3a173635a4": {
            "applied_filters": [],
            "dataframe_info": {
              "default_index_used": true,
              "orig_num_cols": 10,
              "orig_num_rows": 3276,
              "orig_size_bytes": 262212,
              "truncated_num_cols": 11,
              "truncated_num_rows": 3276,
              "truncated_size_bytes": 288420
            },
            "display_id": "f6fcbfbd-c77b-42ea-b443-2a3a173635a4",
            "dx_settings": {
              "ALLOW_NOTEABLE_ATTRS": true,
              "COLUMN_SAMPLING_METHOD": "outer",
              "DB_LOCATION": ":memory:",
              "DEV_MODE": false,
              "DISPLAY_MAX_COLUMNS": 50,
              "DISPLAY_MAX_ROWS": 50000,
              "DISPLAY_MODE": "simple",
              "ENABLE_ASSIGNMENT": true,
              "ENABLE_DATALINK": false,
              "ENABLE_RENAMER": true,
              "FLATTEN_COLUMN_VALUES": true,
              "FLATTEN_INDEX_VALUES": false,
              "GENERATE_DEX_METADATA": false,
              "HTML_TABLE_SCHEMA": false,
              "LOG_LEVEL": 30,
              "MAX_RENDER_SIZE_BYTES": 104857600,
              "NUM_PAST_SAMPLES_TRACKED": 3,
              "RANDOM_STATE": 12648430,
              "RESET_INDEX_VALUES": false,
              "ROW_SAMPLING_METHOD": "random",
              "SAMPLING_FACTOR": 0.1,
              "SAMPLING_METHOD": "random",
              "STRINGIFY_COLUMN_VALUES": true,
              "STRINGIFY_INDEX_VALUES": false
            },
            "sample_history": [],
            "sampling_time": "2023-10-31T18:34:43.377153",
            "user_variable_name": "pd.read_csv('water_potability.csv')",
            "variable_name": "CSV_TO_GRID_DF"
          }
        },
        "dx": {
          "dashboard": {
            "multiViews": []
          },
          "fieldMetadata": {},
          "updated": 1699516482624,
          "views": [
            {
              "annotationRules": [],
              "chart": {},
              "chartMode": "grid",
              "confoRules": [],
              "decoration": {
                "footer": "",
                "subtitle": "",
                "title": "Table"
              },
              "facets": [],
              "filterSettings": {
                "SHOW_FILTER_PANEL": true,
                "filters": []
              },
              "id": "first-view",
              "isDefault": true,
              "type": "public",
              "userID": ""
            },
            {
              "annotationRules": [],
              "chart": {},
              "chartMode": "grid",
              "confoRules": [],
              "decoration": {
                "footer": "",
                "subtitle": "",
                "title": "Table"
              },
              "facets": [],
              "filterSettings": {
                "SHOW_FILTER_PANEL": true,
                "filters": [
                  {
                    "column": "Hardness",
                    "predicate": "between",
                    "type": "METRIC_FILTER",
                    "value": [
                      198.25883659888865,
                      205.2561246178539
                    ]
                  }
                ]
              },
              "id": "first-view",
              "isDefault": true,
              "isTransitory": true,
              "type": "public",
              "userID": ""
            }
          ]
        },
        "jupyter": {
          "outputs_hidden": false,
          "source_hidden": false
        },
        "noteable": {
          "cell_type": "code",
          "output_collection_id": "6e5ca8b0-3856-4ab4-b524-e8162514c71e"
        }
      },
      "outputs": [],
      "source": [
        "head(df)"
      ]
    },
    {
      "cell_type": "code",
      "execution_count": null,
      "id": "975685ac-782a-40ff-bfb1-26de9752799b",
      "metadata": {
        "ExecuteTime": {
          "end_time": "2023-11-16T15:04:25.738592+00:00",
          "start_time": "2023-11-16T15:04:25.724150+00:00"
        },
        "jupyter": {
          "outputs_hidden": false,
          "source_hidden": false
        },
        "noteable": {
          "cell_type": "code",
          "output_collection_id": "2712adf6-d347-46de-8137-92a6114be017"
        }
      },
      "outputs": [],
      "source": [
        "print(summary(df))"
      ]
    },
    {
      "cell_type": "code",
      "execution_count": null,
      "id": "8fcd42f5-edee-48ac-adb1-546790eef5c5",
      "metadata": {
        "ExecuteTime": {
          "end_time": "2023-11-16T15:04:27.405081+00:00",
          "start_time": "2023-11-16T15:04:27.389198+00:00"
        },
        "jupyter": {
          "outputs_hidden": false,
          "source_hidden": false
        },
        "noteable": {
          "cell_type": "code",
          "output_collection_id": "ba654972-d161-45ea-839d-f0629b7fc61c"
        }
      },
      "outputs": [],
      "source": [
        "print(str(df))"
      ]
    },
    {
      "cell_type": "code",
      "execution_count": null,
      "id": "ea5e3403-acc8-4065-89cb-86acd172e4de",
      "metadata": {
        "ExecuteTime": {
          "end_time": "2023-11-16T15:04:30.699530+00:00",
          "start_time": "2023-11-16T15:04:30.686075+00:00"
        },
        "jupyter": {
          "outputs_hidden": false,
          "source_hidden": false
        },
        "noteable": {
          "cell_type": "code",
          "output_collection_id": "7b103749-908e-45cc-9143-20fd923821d1"
        }
      },
      "outputs": [],
      "source": [
        "\n",
        "dim(df)"
      ]
    },
    {
      "cell_type": "code",
      "execution_count": null,
      "id": "c83d387a-95c7-43f8-a582-f5707c2ad8b6",
      "metadata": {
        "ExecuteTime": {
          "end_time": "2023-11-16T15:04:31.906547+00:00",
          "start_time": "2023-11-16T15:04:31.894265+00:00"
        },
        "jupyter": {
          "outputs_hidden": false,
          "source_hidden": false
        },
        "noteable": {
          "cell_type": "code",
          "output_collection_id": "8cef46d0-6f7c-4a45-9828-480643523692"
        }
      },
      "outputs": [],
      "source": [
        "nrow(df)\n"
      ]
    },
    {
      "cell_type": "code",
      "execution_count": null,
      "id": "cd87d220-d280-4c77-9711-84188a0360bc",
      "metadata": {
        "ExecuteTime": {
          "end_time": "2023-11-16T15:04:32.885755+00:00",
          "start_time": "2023-11-16T15:04:32.870741+00:00"
        },
        "jupyter": {
          "outputs_hidden": false,
          "source_hidden": false
        },
        "noteable": {
          "cell_type": "code",
          "output_collection_id": "1a2ab314-7b64-43e0-b7c9-b3d617a7e152"
        }
      },
      "outputs": [],
      "source": [
        "ncol(df)"
      ]
    },
    {
      "cell_type": "code",
      "execution_count": null,
      "id": "9e8a4b1e-3862-4b7b-8ab1-8fc5681af050",
      "metadata": {
        "ExecuteTime": {
          "end_time": "2023-11-16T15:04:33.995947+00:00",
          "start_time": "2023-11-16T15:04:33.980542+00:00"
        },
        "jupyter": {
          "outputs_hidden": false,
          "source_hidden": false
        },
        "noteable": {
          "cell_type": "code",
          "output_collection_id": "6dd26d7e-cfbb-4f70-b2f5-fc1a6847307d"
        }
      },
      "outputs": [],
      "source": [
        "# Null values\n",
        "sum(is.na(df))"
      ]
    },
    {
      "cell_type": "code",
      "execution_count": null,
      "id": "7d6e04a2-baa7-4b02-aec8-65ae3d1c5d9e",
      "metadata": {
        "ExecuteTime": {
          "end_time": "2023-11-16T15:04:35.200375+00:00",
          "start_time": "2023-11-16T15:04:35.188040+00:00"
        },
        "jupyter": {
          "outputs_hidden": false,
          "source_hidden": false
        },
        "noteable": {
          "cell_type": "code",
          "output_collection_id": "21e41a14-e713-41f7-9966-d0e0636f1ba1"
        }
      },
      "outputs": [],
      "source": [
        "# Missing values per column\n",
        "print(sapply(df,function(x) sum(is.na(x))))"
      ]
    },
    {
      "cell_type": "code",
      "execution_count": null,
      "id": "f22f49e7-8469-4fe4-b2ac-ccbb437b55c9",
      "metadata": {
        "ExecuteTime": {
          "end_time": "2023-11-16T15:04:36.104668+00:00",
          "start_time": "2023-11-16T15:04:36.090840+00:00"
        },
        "jupyter": {
          "outputs_hidden": false,
          "source_hidden": false
        },
        "noteable": {
          "cell_type": "code",
          "output_collection_id": "93e01f2e-90a9-4e80-8d6f-a88b711536af"
        }
      },
      "outputs": [],
      "source": [
        "#check the percentage of the missing values per column\n",
        "missing_percent <- colSums(is.na(df)) / nrow(df) * 0.01\n",
        "print(missing_percent)"
      ]
    },
    {
      "cell_type": "code",
      "execution_count": null,
      "id": "4bb15a0d-0834-4e0d-a66d-e4510cb5aaaa",
      "metadata": {
        "ExecuteTime": {
          "end_time": "2023-11-16T15:04:37.011611+00:00",
          "start_time": "2023-11-16T15:04:36.993291+00:00"
        },
        "jupyter": {
          "outputs_hidden": false,
          "source_hidden": false
        },
        "noteable": {
          "cell_type": "code",
          "output_collection_id": "9bc4bbb4-3cfa-4ca7-8c47-242a84389275"
        }
      },
      "outputs": [],
      "source": [
        "#if the percentage is low, replace the missing values with the mean of each\n",
        "#calculating the mean\n",
        "null_values <- colnames(df)[colSums(is.na(df)) > 0]\n",
        "means <- sapply(df[, null_values], mean, na.rm = TRUE)\n",
        "print(means)"
      ]
    },
    {
      "cell_type": "code",
      "execution_count": null,
      "id": "100648a9-0421-4e79-8130-4cf9a5aab3ab",
      "metadata": {
        "ExecuteTime": {
          "end_time": "2023-11-16T15:04:39.284555+00:00",
          "start_time": "2023-11-16T15:04:39.267258+00:00"
        },
        "jupyter": {
          "outputs_hidden": false,
          "source_hidden": false
        },
        "noteable": {
          "cell_type": "code",
          "output_collection_id": "7717b9d6-8bc6-4666-9f7d-e003daa57125"
        }
      },
      "outputs": [],
      "source": [
        "#replacing the missing values\n",
        "for (col in null_values) {\n",
        "  df[[col]][is.na(df[[col]])] <- means[col]\n",
        "}"
      ]
    },
    {
      "cell_type": "code",
      "execution_count": null,
      "id": "44a464c7-4552-457e-986b-34020c842dec",
      "metadata": {
        "ExecuteTime": {
          "end_time": "2023-11-16T15:04:40.522759+00:00",
          "start_time": "2023-11-16T15:04:40.511662+00:00"
        },
        "jupyter": {
          "outputs_hidden": false,
          "source_hidden": false
        },
        "noteable": {
          "cell_type": "code",
          "output_collection_id": "fec88f6c-a641-4408-884d-011d4d400f95"
        }
      },
      "outputs": [],
      "source": [
        "print(sapply(df,function(x) sum(is.na(x))))"
      ]
    },
    {
      "cell_type": "code",
      "execution_count": null,
      "id": "bd7df4aa-3211-4075-8665-fa20ee7c4dde",
      "metadata": {
        "ExecuteTime": {
          "end_time": "2023-11-16T15:04:41.674592+00:00",
          "start_time": "2023-11-16T15:04:41.656673+00:00"
        },
        "jupyter": {
          "outputs_hidden": false,
          "source_hidden": false
        },
        "noteable": {
          "cell_type": "code",
          "output_collection_id": "a01cc406-ff54-4df6-b4a8-7546b60ff618"
        }
      },
      "outputs": [],
      "source": [
        "correlation <-cor(df)"
      ]
    },
    {
      "cell_type": "code",
      "execution_count": null,
      "id": "549679b0-a603-4b95-9c77-bf9df95dd4d3",
      "metadata": {
        "ExecuteTime": {
          "end_time": "2023-11-16T15:04:42.991570+00:00",
          "start_time": "2023-11-16T15:04:42.977611+00:00"
        },
        "jupyter": {
          "outputs_hidden": false,
          "source_hidden": false
        },
        "noteable": {
          "cell_type": "code",
          "output_collection_id": "20629e05-136b-4476-9247-17be54b4a789"
        }
      },
      "outputs": [],
      "source": [
        "print(correlation)"
      ]
    },
    {
      "cell_type": "code",
      "execution_count": null,
      "id": "0d5ba1af-0b68-4da4-af3c-4fabfeed84e4",
      "metadata": {
        "ExecuteTime": {
          "end_time": "2023-11-16T15:04:43.899155+00:00",
          "start_time": "2023-11-16T15:04:43.890895+00:00"
        },
        "jupyter": {
          "outputs_hidden": false,
          "source_hidden": false
        },
        "noteable": {
          "cell_type": "code",
          "output_collection_id": "f77ef122-4694-4002-97ab-6966c0379863"
        }
      },
      "outputs": [],
      "source": [
        "# Correlation of all features with target column(portability)\n",
        "# Use of sapply to iterate through all the features except protability computing correlation against it.\n",
        "\n"
      ]
    },
    {
      "cell_type": "code",
      "execution_count": null,
      "id": "cd06c154-6bbf-404e-ae2c-3ee8e00fe882",
      "metadata": {
        "ExecuteTime": {
          "end_time": "2023-11-16T15:04:44.627050+00:00",
          "start_time": "2023-11-16T15:04:44.618533+00:00"
        },
        "jupyter": {
          "outputs_hidden": false,
          "source_hidden": false
        },
        "noteable": {
          "cell_type": "code",
          "output_collection_id": "b9b62205-2411-41ef-b523-a759f45ead8d"
        }
      },
      "outputs": [],
      "source": [
        "# # parameters<-list(df$ph,df$Hardness,df$Solids,df$Chloramines,df$Sulfate,df$Conductivity,df$Organic_carbon,df$Trihalomethanes,df$Turbidity)#list of all parameters except portability\n",
        "\n",
        "# target_var<-df$Potability\n",
        "# correlations <- sapply(parameters, function(x) cor(x, target_var)) #checking correlation of all other variables against portability                     \n",
        "                 \n",
        "                       \n",
        "# print(correlations)"
      ]
    },
    {
      "cell_type": "code",
      "execution_count": null,
      "id": "cd4b9b16-17e4-43d0-bb01-0650f313bb4b",
      "metadata": {
        "ExecuteTime": {
          "end_time": "2023-11-16T15:04:45.359624+00:00",
          "start_time": "2023-11-16T15:04:45.342080+00:00"
        },
        "jupyter": {
          "outputs_hidden": false,
          "source_hidden": false
        },
        "noteable": {
          "cell_type": "code",
          "output_collection_id": "9b93915f-633e-4b92-80be-a3def1cce4a7"
        }
      },
      "outputs": [],
      "source": [
        "#setting Potability as the target variable\n",
        "target_var <- df$Potability\n",
        "\n",
        "# Calculating correlations for all variables in the df against the target variable then storing results in a new data frame\n",
        "correlation_data <- data.frame(\n",
        "  Variable = colnames(df), \n",
        "  Correlation = sapply(df, function(x) {\n",
        "    corr_value <- cor(x, target_var)\n",
        "    round(corr_value, 5)\n",
        "  })\n",
        ")\n",
        "correlation_data <- correlation_data[order(correlation_data$Correlation, decreasing = TRUE), ]\n",
        "\n",
        "\n",
        "print(correlation_data)"
      ]
    },
    {
      "cell_type": "code",
      "execution_count": null,
      "id": "061fe76b-1239-4e1e-9070-39543bf636aa",
      "metadata": {
        "ExecuteTime": {
          "end_time": "2023-11-16T15:04:46.701709+00:00",
          "start_time": "2023-11-16T15:04:46.687927+00:00"
        },
        "jupyter": {
          "outputs_hidden": false,
          "source_hidden": false
        },
        "noteable": {
          "cell_type": "code",
          "output_collection_id": "bf3788a9-e6a5-4e99-8a2c-509cf289df8c"
        }
      },
      "outputs": [],
      "source": [
        "# cor(df$ph,df$Hardness)\n"
      ]
    },
    {
      "cell_type": "code",
      "execution_count": null,
      "id": "8fb6e58b-ef94-4f33-a05a-2a57cd97758d",
      "metadata": {
        "ExecuteTime": {
          "end_time": "2023-11-16T15:04:48.013328+00:00",
          "start_time": "2023-11-16T15:04:47.996343+00:00"
        },
        "jupyter": {
          "outputs_hidden": false,
          "source_hidden": false
        },
        "noteable": {
          "cell_type": "code",
          "output_collection_id": "24f45c8e-1fe1-4ac6-9cf4-cecfb1530945"
        }
      },
      "outputs": [],
      "source": [
        "dups <- sum(duplicated(df))"
      ]
    },
    {
      "cell_type": "code",
      "execution_count": null,
      "id": "f0984a3c-eccc-46e5-b6fd-19cdecd05959",
      "metadata": {
        "ExecuteTime": {
          "end_time": "2023-11-16T15:04:49.594414+00:00",
          "start_time": "2023-11-16T15:04:49.572813+00:00"
        },
        "noteable": {
          "cell_type": "python",
          "output_collection_id": "59634112-8394-40c8-9be2-ccdb936ab59c"
        }
      },
      "outputs": [],
      "source": [
        "print(dups)"
      ]
    },
    {
      "cell_type": "code",
      "execution_count": null,
      "id": "a7092ebc-204f-462a-afc4-e1ceaddc1aee",
      "metadata": {
        "ExecuteTime": {
          "end_time": "2023-11-16T15:04:50.339313+00:00",
          "start_time": "2023-11-16T15:04:50.324917+00:00"
        },
        "jupyter": {
          "outputs_hidden": false,
          "source_hidden": false
        },
        "noteable": {
          "cell_type": "code",
          "output_collection_id": "d2f0a78c-dbe5-401c-a654-6943ec7a986f"
        }
      },
      "outputs": [],
      "source": [
        "str(df)"
      ]
    },
    {
      "cell_type": "code",
      "execution_count": null,
      "id": "a48d4691-8f01-4f5d-b921-53a0bf4541fa",
      "metadata": {
        "ExecuteTime": {
          "end_time": "2023-11-16T15:04:51.246692+00:00",
          "start_time": "2023-11-16T15:04:51.235093+00:00"
        },
        "jupyter": {
          "outputs_hidden": false,
          "source_hidden": false
        },
        "noteable": {
          "cell_type": "code",
          "output_collection_id": "21ec134b-051d-4198-925d-5698e7538720"
        }
      },
      "outputs": [],
      "source": [
        "val_counts <- table(df$Potability)\n",
        "print(val_counts)"
      ]
    },
    {
      "cell_type": "code",
      "execution_count": null,
      "id": "9e2a3664-0770-407e-9cb3-22e69a16bee2",
      "metadata": {
        "ExecuteTime": {
          "end_time": "2023-11-16T15:04:51.906611+00:00",
          "start_time": "2023-11-16T15:04:51.895600+00:00"
        },
        "jupyter": {
          "outputs_hidden": false,
          "source_hidden": false
        },
        "noteable": {
          "cell_type": "code",
          "output_collection_id": "30c775f8-32b6-44a8-8f30-b30115e7e361"
        }
      },
      "outputs": [],
      "source": [
        "column_names <- colnames(df)\n",
        "print(column_names)"
      ]
    },
    {
      "cell_type": "code",
      "execution_count": null,
      "id": "aa6b19f5-ea93-43b3-8b9a-697817ed3031",
      "metadata": {
        "ExecuteTime": {
          "end_time": "2023-11-16T15:05:03.485694+00:00",
          "start_time": "2023-11-16T15:04:53.146563+00:00"
        },
        "jupyter": {
          "outputs_hidden": false,
          "source_hidden": false
        },
        "noteable": {
          "cell_type": "code",
          "output_collection_id": "cac4959f-18ee-4861-8981-9ffeeab9242c"
        }
      },
      "outputs": [],
      "source": [
        "install.packages(\"skimr\")\n",
        "library(skimr)\n",
        "# skim(df)"
      ]
    },
    {
      "cell_type": "code",
      "execution_count": null,
      "id": "2113e546-ff87-4648-bd56-26206dbe146c",
      "metadata": {
        "ExecuteTime": {
          "end_time": "2023-11-16T15:05:03.504680+00:00",
          "start_time": "2023-11-16T15:05:03.493297+00:00"
        },
        "jupyter": {
          "outputs_hidden": false,
          "source_hidden": false
        },
        "noteable": {
          "cell_type": "code",
          "output_collection_id": "63e2a7f8-f95f-4c32-bf5f-6c9bd109fe2d"
        }
      },
      "outputs": [],
      "source": [
        "# Check values(unique)\n",
        "table(df$Potability)"
      ]
    },
    {
      "cell_type": "code",
      "execution_count": null,
      "id": "0c2f557c-0f3b-4f6d-bfa3-dd60aa8a1cb3",
      "metadata": {
        "ExecuteTime": {
          "end_time": "2023-11-16T15:05:25.047966+00:00",
          "start_time": "2023-11-16T15:05:03.589545+00:00"
        },
        "jupyter": {
          "outputs_hidden": false,
          "source_hidden": false
        },
        "noteable": {
          "cell_type": "code",
          "output_collection_id": "b141864e-ab42-46d9-97e2-4e01fe33067b"
        },
        "scrolled": true
      },
      "outputs": [],
      "source": [
        "install.packages('ggplot2')\n",
        "library(ggplot2)\n",
        "ggplot(df, aes(x=Hardness)) + geom_histogram(binwidth = 5)"
      ]
    },
    {
      "cell_type": "code",
      "execution_count": null,
      "id": "f2ad0aee-d248-464e-b14c-afd426e28a99",
      "metadata": {
        "ExecuteTime": {
          "end_time": "2023-11-16T15:05:25.606553+00:00",
          "start_time": "2023-11-16T15:05:25.313654+00:00"
        },
        "jupyter": {
          "outputs_hidden": false,
          "source_hidden": false
        },
        "noteable": {
          "cell_type": "code",
          "output_collection_id": "69f795f3-bac1-41fa-a8ae-2905c9b6c252"
        }
      },
      "outputs": [],
      "source": [
        "ggplot(df, aes(x=ph)) + geom_histogram()"
      ]
    },
    {
      "cell_type": "code",
      "execution_count": null,
      "id": "0e6ebdf7-f248-4899-8046-a8f42a595e3d",
      "metadata": {
        "ExecuteTime": {
          "end_time": "2023-11-16T15:05:26.208166+00:00",
          "start_time": "2023-11-16T15:05:25.940380+00:00"
        },
        "jupyter": {
          "outputs_hidden": false,
          "source_hidden": false
        },
        "noteable": {
          "cell_type": "code",
          "output_collection_id": "31649fca-6747-4851-a1ba-36426a0fa1ea"
        }
      },
      "outputs": [],
      "source": [
        "# Distribution of portable and non portsble water values\n",
        "ggplot(df, aes(x = Potability, fill=Potability)) + geom_bar()\n"
      ]
    },
    {
      "cell_type": "code",
      "execution_count": null,
      "id": "1e7181bb-8ff3-4068-b9b7-d58eeaefb9ff",
      "metadata": {
        "ExecuteTime": {
          "end_time": "2023-11-16T15:05:36.347930+00:00",
          "start_time": "2023-11-16T15:05:26.466693+00:00"
        },
        "jupyter": {
          "outputs_hidden": false,
          "source_hidden": false
        },
        "noteable": {
          "cell_type": "code",
          "output_collection_id": "4bc24759-4155-4f63-b9d4-5ed0e4350c9b"
        }
      },
      "outputs": [],
      "source": [
        "install.packages('corrplot')\n",
        "library(corrplot)"
      ]
    },
    {
      "cell_type": "code",
      "execution_count": null,
      "id": "8bec93bb-a442-428d-be88-57a8091e543f",
      "metadata": {
        "ExecuteTime": {
          "end_time": "2023-11-16T15:05:36.510085+00:00",
          "start_time": "2023-11-16T15:05:36.381409+00:00"
        },
        "jupyter": {
          "outputs_hidden": false,
          "source_hidden": false
        },
        "noteable": {
          "cell_type": "code",
          "output_collection_id": "6a1fbb1d-0c42-4435-8db3-83f80950eb79"
        }
      },
      "outputs": [],
      "source": [
        "corr <- cor(df)\n",
        "if (any(is.na(corr)) || any(is.nan(corr))) {\n",
        " corr[is.na(corr)] <- 0  # Replace NAs with 0\n",
        "}\n",
        "print(class(corr))\n",
        "print(str(corr))\n",
        "rounded_corr <- round(corr, 2)\n",
        "\n",
        "corrplot(rounded_corr, method = 'number')\n"
      ]
    },
    {
      "cell_type": "code",
      "execution_count": null,
      "id": "a76499bf-89b0-4d70-87fc-93d19ce9d58b",
      "metadata": {
        "ExecuteTime": {
          "end_time": "2023-11-16T15:05:36.859923+00:00",
          "start_time": "2023-11-16T15:05:36.783967+00:00"
        },
        "jupyter": {
          "outputs_hidden": false,
          "source_hidden": false
        },
        "noteable": {
          "cell_type": "code",
          "output_collection_id": "4275e626-c0a0-43e3-addb-f2b6875b39d1"
        }
      },
      "outputs": [],
      "source": [
        "\n",
        "corrplot(corr, method = 'color', col = colorRampPalette(c(\"red\", \"white\", \"blue\"))(100), order = 'alphabet')"
      ]
    },
    {
      "cell_type": "code",
      "execution_count": null,
      "id": "6f2477c5-2b97-4ce4-a1d7-37ce126ceea6",
      "metadata": {
        "ExecuteTime": {
          "end_time": "2023-11-16T15:05:37.217876+00:00",
          "start_time": "2023-11-16T15:05:37.205557+00:00"
        },
        "jupyter": {
          "outputs_hidden": false,
          "source_hidden": false
        },
        "noteable": {
          "cell_type": "code",
          "output_collection_id": "3175ee5e-bbef-4f28-89dd-b7b58fee532b"
        }
      },
      "outputs": [],
      "source": [
        "# ggplot(df, aes(x=ph, y=Hardness)) + geom_point() +  ggtitle('Hardness against ph Scatterplot')"
      ]
    },
    {
      "cell_type": "code",
      "execution_count": null,
      "id": "d03967de-d379-4054-9b43-61416be7471a",
      "metadata": {
        "ExecuteTime": {
          "end_time": "2023-11-16T15:05:37.229069+00:00",
          "start_time": "2023-11-16T15:05:37.222374+00:00"
        },
        "jupyter": {
          "outputs_hidden": false,
          "source_hidden": false
        },
        "noteable": {
          "cell_type": "code",
          "output_collection_id": "55f63d8c-3336-4d86-8fd0-98a288c6ff29"
        }
      },
      "outputs": [],
      "source": [
        "# ggplot(df, aes(x=Solids, y=Sulfate)) + geom_point() + ggtitle('Sulfates against Solids Scatterplot')"
      ]
    },
    {
      "cell_type": "code",
      "execution_count": null,
      "id": "b0843c0d-dfed-48cb-972a-fc520b7636d3",
      "metadata": {
        "ExecuteTime": {
          "end_time": "2023-11-16T15:05:39.307411+00:00",
          "start_time": "2023-11-16T15:05:39.297129+00:00"
        },
        "jupyter": {
          "outputs_hidden": false,
          "source_hidden": false
        },
        "noteable": {
          "cell_type": "code",
          "output_collection_id": "c9c82348-bfa1-400e-8390-0b9c1d55a274"
        }
      },
      "outputs": [],
      "source": [
        "# ggplot(df, aes(x=Trihalomethanes, y=Organic_carbon)) + geom_point() + ggtitle('Trihalomethanes against Organic_carbon Scatterplot')"
      ]
    },
    {
      "cell_type": "code",
      "execution_count": null,
      "id": "ae5db14a-816f-4d9d-8e55-e1d0b9f7a520",
      "metadata": {
        "ExecuteTime": {
          "end_time": "2023-11-16T15:05:41.803876+00:00",
          "start_time": "2023-11-16T15:05:41.480784+00:00"
        },
        "jupyter": {
          "outputs_hidden": false,
          "source_hidden": false
        },
        "noteable": {
          "cell_type": "code",
          "output_collection_id": "5b02ac84-f55c-4ac0-9ea5-91349ddd2223"
        }
      },
      "outputs": [],
      "source": [
        "ggplot(df, aes(x=Potability, y=Hardness)) + geom_point() + ggtitle('Hardness against Potability Scatterplot')"
      ]
    },
    {
      "cell_type": "code",
      "execution_count": null,
      "id": "6bbb269f-e0c1-41c8-bacc-bc5d6b5a01a2",
      "metadata": {
        "ExecuteTime": {
          "end_time": "2023-11-16T15:05:43.296906+00:00",
          "start_time": "2023-11-16T15:05:43.051642+00:00"
        },
        "jupyter": {
          "outputs_hidden": false,
          "source_hidden": false
        },
        "noteable": {
          "cell_type": "code",
          "output_collection_id": "13372b4e-a5ba-4897-9863-016edb20e6b2"
        },
        "scrolled": false
      },
      "outputs": [],
      "source": [
        "ggplot(df, aes(x=ph)) + geom_boxplot() + ggtitle('ph Boxplot')"
      ]
    },
    {
      "cell_type": "code",
      "execution_count": null,
      "id": "54327e5f-f882-40d0-ae98-a158a52e672f",
      "metadata": {
        "ExecuteTime": {
          "end_time": "2023-11-16T15:05:45.632751+00:00",
          "start_time": "2023-11-16T15:05:45.394498+00:00"
        },
        "jupyter": {
          "outputs_hidden": false,
          "source_hidden": false
        },
        "noteable": {
          "cell_type": "code",
          "output_collection_id": "7c4f6ecb-efe4-4de6-b3f6-e0503ad6cd62"
        }
      },
      "outputs": [],
      "source": [
        "ggplot(df, aes(x=Sulfate )) + geom_boxplot() + ggtitle('Sulfate Boxplot')"
      ]
    },
    {
      "cell_type": "code",
      "execution_count": null,
      "id": "adc90d96-32c8-4737-9db2-09a3269ebd93",
      "metadata": {
        "ExecuteTime": {
          "end_time": "2023-11-16T15:06:10.980911+00:00",
          "start_time": "2023-11-16T15:05:52.343454+00:00"
        },
        "jupyter": {
          "outputs_hidden": false,
          "source_hidden": false
        },
        "noteable": {
          "cell_type": "code",
          "output_collection_id": "1666cfce-c207-497b-8661-c7b39d2118c1"
        }
      },
      "outputs": [],
      "source": [
        "# Outlier handling\n",
        "install.packages('dplyr')"
      ]
    },
    {
      "cell_type": "code",
      "execution_count": null,
      "id": "4ec688bb-c1b4-4613-8d3a-531bbf840da3",
      "metadata": {
        "ExecuteTime": {
          "end_time": "2023-11-16T15:06:12.698182+00:00",
          "start_time": "2023-11-16T15:06:12.641641+00:00"
        },
        "jupyter": {
          "outputs_hidden": false,
          "source_hidden": false
        },
        "noteable": {
          "cell_type": "code",
          "output_collection_id": "763502a1-27e2-4d7e-94ba-e6d7ac6f5109"
        }
      },
      "outputs": [],
      "source": [
        "library(dplyr)\n",
        "filtered <-filter(df,  ph >=0, ph<=14)\n"
      ]
    },
    {
      "cell_type": "code",
      "execution_count": null,
      "id": "8cf03f2d-f929-401f-8132-32d6d49ecf5f",
      "metadata": {
        "ExecuteTime": {
          "end_time": "2023-11-16T15:06:16.382994+00:00",
          "start_time": "2023-11-16T15:06:16.343672+00:00"
        },
        "jupyter": {
          "outputs_hidden": false,
          "source_hidden": false
        },
        "noteable": {
          "cell_type": "code",
          "output_collection_id": "a555ed22-1e8e-4fc5-a1f6-fa676832e5b9"
        }
      },
      "outputs": [],
      "source": [
        "# Filter hardness\n",
        "filtered <-filter(df,  Hardness >=100, Hardness<=300)\n"
      ]
    },
    {
      "cell_type": "code",
      "execution_count": null,
      "id": "033a6b7e-86b0-43cd-b6db-17203598d667",
      "metadata": {
        "ExecuteTime": {
          "end_time": "2023-11-16T15:06:21.294274+00:00",
          "start_time": "2023-11-16T15:06:21.277563+00:00"
        },
        "jupyter": {
          "outputs_hidden": false,
          "source_hidden": false
        },
        "noteable": {
          "cell_type": "code",
          "output_collection_id": "ef34e507-2282-403f-bf97-ce3d1c76406f"
        }
      },
      "outputs": [],
      "source": [
        "# Filtered Sulphates\n",
        "filtered <-filter(df,  Sulfate >=200, Sulfate<=450)\n"
      ]
    },
    {
      "cell_type": "code",
      "execution_count": null,
      "id": "f785a91b-629e-411b-98e1-5e3046d5f872",
      "metadata": {
        "ExecuteTime": {
          "end_time": "2023-11-16T15:06:22.693202+00:00",
          "start_time": "2023-11-16T15:06:22.683006+00:00"
        },
        "jupyter": {
          "outputs_hidden": false,
          "source_hidden": false
        },
        "noteable": {
          "cell_type": "code",
          "output_collection_id": "1d5d05ec-1809-4b17-bee8-de05cb904a91"
        }
      },
      "outputs": [],
      "source": [
        "# # Max pH\n",
        "# max(filtered$Hardness)\n",
        "# min(filtered$Hardness)"
      ]
    },
    {
      "cell_type": "code",
      "execution_count": null,
      "id": "8253e97b-a6d0-4699-a9e2-5f71586de1ad",
      "metadata": {
        "ExecuteTime": {
          "end_time": "2023-11-16T15:06:24.487586+00:00",
          "start_time": "2023-11-16T15:06:24.437745+00:00"
        },
        "jupyter": {
          "outputs_hidden": false,
          "source_hidden": false
        },
        "noteable": {
          "cell_type": "code",
          "output_collection_id": "72d972a6-f9bc-41e5-883a-6dab98b874c1"
        }
      },
      "outputs": [],
      "source": [
        "head(filtered)"
      ]
    },
    {
      "cell_type": "code",
      "execution_count": null,
      "id": "c1fc9496-4265-44d2-bf7f-04411c65de12",
      "metadata": {
        "ExecuteTime": {
          "end_time": "2023-11-16T15:06:25.958476+00:00",
          "start_time": "2023-11-16T15:06:25.934457+00:00"
        },
        "jupyter": {
          "outputs_hidden": false,
          "source_hidden": false
        },
        "noteable": {
          "cell_type": "code",
          "output_collection_id": "b6fc7c2b-0c4e-45b2-9b84-98d00dbe9064"
        }
      },
      "outputs": [],
      "source": [
        "dim(filtered)"
      ]
    },
    {
      "cell_type": "code",
      "execution_count": null,
      "id": "1b5f93d4-a43d-4ece-935c-6bced942aebc",
      "metadata": {
        "ExecuteTime": {
          "end_time": "2023-11-16T15:06:40.688757+00:00",
          "start_time": "2023-11-16T15:06:29.285578+00:00"
        },
        "jupyter": {
          "outputs_hidden": false,
          "source_hidden": false
        },
        "noteable": {
          "cell_type": "code",
          "output_collection_id": "63041d14-d097-4548-9926-f8e2b88eed41"
        }
      },
      "outputs": [],
      "source": [
        "# Modeling\n",
        "install.packages('randomForest')"
      ]
    },
    {
      "id": "38516a0a-36b2-4736-9b72-02d7c4f86407",
      "cell_type": "code",
      "metadata": {
        "jupyter": {
          "outputs_hidden": false,
          "source_hidden": false
        },
        "noteable": {
          "cell_type": "code",
          "output_collection_id": "3bbaddb4-743e-4caa-af47-f7767c704b5c"
        },
        "ExecuteTime": {
          "end_time": "2023-11-16T15:07:53.257089+00:00",
          "start_time": "2023-11-16T15:07:42.235817+00:00"
        }
      },
      "execution_count": null,
      "source": "install.packages(\"caTools\")\n",
      "outputs": []
    },
    {
      "cell_type": "code",
      "execution_count": null,
      "id": "c9125773-da36-4aea-8a80-3316c50ca4fe",
      "metadata": {
        "ExecuteTime": {
          "end_time": "2023-11-16T15:07:55.591158+00:00",
          "start_time": "2023-11-16T15:07:55.576439+00:00"
        },
        "jupyter": {
          "outputs_hidden": false,
          "source_hidden": false
        },
        "noteable": {
          "cell_type": "code",
          "output_collection_id": "1d5fd416-af45-414d-8906-f6ed4981d035"
        }
      },
      "outputs": [],
      "source": "library(randomForest)\n"
    },
    {
      "id": "687ce078-d1a9-4691-b3b3-49ac9d8d86b7",
      "cell_type": "code",
      "metadata": {
        "jupyter": {
          "outputs_hidden": false,
          "source_hidden": false
        },
        "noteable": {
          "cell_type": "code",
          "output_collection_id": "15a785cd-ca94-46d7-88f1-f3a3f21c006a"
        },
        "ExecuteTime": {
          "end_time": "2023-11-16T15:07:58.093528+00:00",
          "start_time": "2023-11-16T15:07:58.081541+00:00"
        }
      },
      "execution_count": null,
      "source": "library(caTools) ",
      "outputs": []
    },
    {
      "cell_type": "code",
      "execution_count": null,
      "id": "9570087a-5c90-4887-87ed-7ae68dd7782c",
      "metadata": {
        "ExecuteTime": {
          "end_time": "2023-11-16T15:08:02.208758+00:00",
          "start_time": "2023-11-16T15:08:02.183692+00:00"
        },
        "jupyter": {
          "outputs_hidden": false,
          "source_hidden": false
        },
        "noteable": {
          "cell_type": "code",
          "output_collection_id": "5c839ccb-82e1-40a8-9009-02acbddbf294"
        }
      },
      "outputs": [],
      "source": "# Select target and features\nsplit <- sample.split(df, SplitRatio = 0.7) \nsplit"
    },
    {
      "cell_type": "code",
      "execution_count": null,
      "id": "0343d229-8293-4c18-a9c5-bea704b17ed7",
      "metadata": {
        "ExecuteTime": {
          "end_time": "2023-11-16T15:08:07.620392+00:00",
          "start_time": "2023-11-16T15:08:07.609117+00:00"
        },
        "jupyter": {
          "outputs_hidden": false,
          "source_hidden": false
        },
        "noteable": {
          "cell_type": "code",
          "output_collection_id": "6b913d5e-578f-474e-a4fb-9c3ad33f5b43"
        }
      },
      "outputs": [],
      "source": "train <- subset(df, split == \"TRUE\") \ntest <- subset(df, split == \"FALSE\") \n\n"
    },
    {
      "id": "f47c3d97-460b-41a3-96ca-8e5860daaf4b",
      "cell_type": "code",
      "metadata": {
        "jupyter": {
          "outputs_hidden": false,
          "source_hidden": false
        },
        "noteable": {
          "cell_type": "code",
          "output_collection_id": "9b0ac2a0-8c94-4932-ac94-07d154c55c8d"
        },
        "ExecuteTime": {
          "end_time": "2023-11-16T15:08:09.686793+00:00",
          "start_time": "2023-11-16T15:08:09.672725+00:00"
        }
      },
      "execution_count": null,
      "source": "set.seed(120)  # Setting seed ",
      "outputs": []
    },
    {
      "id": "edd33a4c-d56c-44b3-8f1a-dc869333183d",
      "cell_type": "code",
      "metadata": {
        "jupyter": {
          "outputs_hidden": false,
          "source_hidden": false
        },
        "noteable": {
          "cell_type": "code",
          "output_collection_id": "9c1a164d-ee8c-4a26-80d2-69afac633fb9"
        },
        "ExecuteTime": {
          "end_time": "2023-11-16T15:08:16.293204+00:00",
          "start_time": "2023-11-16T15:08:14.329992+00:00"
        }
      },
      "execution_count": null,
      "source": "# Example for classification\nclassifier_RF <- randomForest(x = train[-10], y = as.factor(train$Potability), ntree = 500)\n",
      "outputs": []
    },
    {
      "id": "c21432bb-032b-4cb9-bd24-a9611fcfc814",
      "cell_type": "code",
      "metadata": {
        "jupyter": {
          "outputs_hidden": false,
          "source_hidden": false
        },
        "noteable": {
          "cell_type": "code",
          "output_collection_id": "63dd7e29-0c92-47c4-9f29-ebe5248f633e"
        },
        "ExecuteTime": {
          "end_time": "2023-11-16T15:08:16.311738+00:00",
          "start_time": "2023-11-16T15:08:16.299752+00:00"
        }
      },
      "execution_count": null,
      "source": "classifier_RF",
      "outputs": []
    },
    {
      "id": "97137ecc-f0d5-4bca-9738-e0ad6a771949",
      "cell_type": "code",
      "metadata": {
        "jupyter": {
          "outputs_hidden": false,
          "source_hidden": false
        },
        "noteable": {
          "cell_type": "code",
          "output_collection_id": "9067c3ba-4c1c-48f9-8b41-24f0a2d42b3f"
        },
        "ExecuteTime": {
          "end_time": "2023-11-16T15:08:18.213846+00:00",
          "start_time": "2023-11-16T15:08:17.908622+00:00"
        }
      },
      "execution_count": null,
      "source": "y_pred = predict(classifier_RF, newdata = test[-10]) \n",
      "outputs": []
    },
    {
      "id": "4c567932-7c7e-42bd-baed-cc2269ebe345",
      "cell_type": "code",
      "metadata": {
        "jupyter": {
          "outputs_hidden": false,
          "source_hidden": false
        },
        "noteable": {
          "cell_type": "code",
          "output_collection_id": "d99ee40f-3163-4948-8a0b-41c7f09666cb"
        },
        "ExecuteTime": {
          "end_time": "2023-11-16T15:08:21.018964+00:00",
          "start_time": "2023-11-16T15:08:21.009361+00:00"
        }
      },
      "execution_count": null,
      "source": "# plot(classifier_RF) \n",
      "outputs": []
    },
    {
      "id": "55cf00e7-7bea-4c4b-8e4b-31dbf7ace9c1",
      "cell_type": "code",
      "metadata": {
        "jupyter": {
          "outputs_hidden": false,
          "source_hidden": false
        },
        "noteable": {
          "cell_type": "code",
          "output_collection_id": "2de11e4d-1f14-4cd4-8775-a0f3feee201b"
        },
        "ExecuteTime": {
          "end_time": "2023-11-16T15:08:21.872079+00:00",
          "start_time": "2023-11-16T15:08:21.854709+00:00"
        }
      },
      "execution_count": null,
      "source": "confusion_mtx = table(test[, 10], y_pred) \nconfusion_mtx",
      "outputs": []
    },
    {
      "id": "d5f2b7a9-fef6-42d4-946f-f603527cee76",
      "cell_type": "code",
      "metadata": {
        "jupyter": {
          "outputs_hidden": false,
          "source_hidden": false
        },
        "noteable": {
          "cell_type": "code",
          "output_collection_id": "231dbf14-5977-4d81-a4d2-85794f61aeb1"
        },
        "ExecuteTime": {
          "end_time": "2023-11-16T15:08:24.334337+00:00",
          "start_time": "2023-11-16T15:08:24.315860+00:00"
        },
        "dx": {
          "dashboard": {
            "multiViews": []
          },
          "fieldMetadata": {
            "MeanDecreaseGini": {
              "columnPosition": 1
            }
          },
          "updated": 1700086296756,
          "views": [
            {
              "annotationRules": [],
              "chart": {},
              "chartMode": "grid",
              "confoRules": [],
              "decoration": {
                "footer": "",
                "subtitle": "",
                "title": "Table"
              },
              "facets": [],
              "filterSettings": {
                "SHOW_FILTER_PANEL": true,
                "filters": []
              },
              "id": "first-view",
              "isDefault": true,
              "type": "public",
              "userID": ""
            },
            {
              "annotationRules": [],
              "chart": {},
              "chartMode": "grid",
              "confoRules": [],
              "decoration": {
                "footer": "",
                "subtitle": "",
                "title": "Table"
              },
              "facets": [],
              "filterSettings": {
                "SHOW_FILTER_PANEL": true,
                "filters": []
              },
              "id": "first-view",
              "isDefault": true,
              "isTransitory": true,
              "type": "public",
              "userID": ""
            }
          ]
        }
      },
      "execution_count": null,
      "source": "# Feature Importance\nimportance(classifier_RF) \n",
      "outputs": []
    },
    {
      "id": "aa8cd384-91a9-4527-861a-e130530f7bbe",
      "cell_type": "code",
      "metadata": {
        "jupyter": {
          "outputs_hidden": false,
          "source_hidden": false
        },
        "noteable": {
          "cell_type": "code",
          "output_collection_id": "6f06fffc-247c-485f-97ab-26da0bb7d4e3"
        },
        "ExecuteTime": {
          "end_time": "2023-11-16T15:14:43.838873+00:00",
          "start_time": "2023-11-16T15:14:43.789188+00:00"
        }
      },
      "execution_count": null,
      "source": "varImpPlot(classifier_RF) \n",
      "outputs": []
    },
    {
      "id": "899bb8d1-129d-42f8-a40a-15d606545606",
      "cell_type": "code",
      "metadata": {
        "jupyter": {
          "outputs_hidden": false,
          "source_hidden": false
        },
        "noteable": {
          "cell_type": "code",
          "output_collection_id": "a8a012ab-998c-4e4d-a6a3-aecf77163ab4"
        },
        "ExecuteTime": {
          "end_time": "2023-11-16T15:08:29.903012+00:00",
          "start_time": "2023-11-16T15:08:29.873338+00:00"
        }
      },
      "execution_count": null,
      "source": "# Using filtered data\n# Select target and features\nf_split <- sample.split(filtered, SplitRatio = 0.7) \nf_split",
      "outputs": []
    },
    {
      "id": "b2fbcad0-cb88-4313-a999-aa3204ecbba0",
      "cell_type": "code",
      "metadata": {
        "jupyter": {
          "outputs_hidden": false,
          "source_hidden": false
        },
        "noteable": {
          "cell_type": "code",
          "output_collection_id": "082bb5a5-48c6-4686-8b6c-9dfa8b8e6ce2"
        },
        "ExecuteTime": {
          "end_time": "2023-11-16T15:08:45.450189+00:00",
          "start_time": "2023-11-16T15:08:45.438569+00:00"
        }
      },
      "execution_count": null,
      "source": "f_train <- subset(df, split == \"TRUE\") \nf_test <- subset(df, split == \"FALSE\") \n\n",
      "outputs": []
    },
    {
      "id": "67978911-e3e4-4a0a-9de5-e6f155f97842",
      "cell_type": "code",
      "metadata": {
        "jupyter": {
          "outputs_hidden": false,
          "source_hidden": false
        },
        "noteable": {
          "cell_type": "code",
          "output_collection_id": "ac1ca71c-a4a9-4955-a816-8e716781532a"
        },
        "ExecuteTime": {
          "end_time": "2023-11-16T15:11:19.593536+00:00",
          "start_time": "2023-11-16T15:11:18.045507+00:00"
        }
      },
      "execution_count": null,
      "source": "f_classifier_RF <- randomForest(x = f_train[-10], y = as.factor(f_train$Potability), ntree = 500)\n",
      "outputs": []
    },
    {
      "id": "dd85bfbf-722b-4563-a1a8-7ad7931a14a2",
      "cell_type": "code",
      "metadata": {
        "jupyter": {
          "outputs_hidden": false,
          "source_hidden": false
        },
        "noteable": {
          "cell_type": "code",
          "output_collection_id": "1eaa8c8a-76ee-4f2c-aa75-ef4e403b2e90"
        },
        "ExecuteTime": {
          "end_time": "2023-11-16T15:11:22.897576+00:00",
          "start_time": "2023-11-16T15:11:22.877538+00:00"
        }
      },
      "execution_count": null,
      "source": "f_classifier_RF",
      "outputs": []
    },
    {
      "id": "2b735977-45aa-401f-b677-8d51eba1672a",
      "cell_type": "code",
      "metadata": {
        "jupyter": {
          "outputs_hidden": false,
          "source_hidden": false
        },
        "noteable": {
          "cell_type": "code",
          "output_collection_id": "66784bb9-6f5d-41f5-bbc4-8b5390f4a255"
        },
        "ExecuteTime": {
          "end_time": "2023-11-16T15:12:24.713806+00:00",
          "start_time": "2023-11-16T15:12:24.702038+00:00"
        }
      },
      "execution_count": null,
      "source": "f_confusion_mtx = table(f_test[, 10], y_pred) \nf_confusion_mtx",
      "outputs": []
    },
    {
      "id": "05def48a-9874-4e3e-bbe0-357ad3476e95",
      "cell_type": "code",
      "metadata": {
        "jupyter": {
          "outputs_hidden": false,
          "source_hidden": false
        },
        "noteable": {
          "cell_type": "code",
          "output_collection_id": "3b0c899a-edae-4c40-85a0-e110fc83bf78"
        },
        "ExecuteTime": {
          "end_time": "2023-11-16T15:13:22.823307+00:00",
          "start_time": "2023-11-16T15:13:22.805088+00:00"
        }
      },
      "execution_count": null,
      "source": "# Feature Importance\nimportance(f_classifier_RF) \n",
      "outputs": []
    },
    {
      "id": "a81613dd-7e67-4d3c-b0fb-4fdabb189e54",
      "cell_type": "code",
      "metadata": {
        "jupyter": {
          "outputs_hidden": false,
          "source_hidden": false
        },
        "noteable": {
          "cell_type": "code",
          "output_collection_id": "c1b9ed45-b983-47e1-b3c0-74ccff8e6ce1"
        },
        "ExecuteTime": {
          "end_time": "2023-11-16T15:13:54.429874+00:00",
          "start_time": "2023-11-16T15:13:54.379043+00:00"
        }
      },
      "execution_count": null,
      "source": "varImpPlot(f_classifier_RF) \n",
      "outputs": []
    },
    {
      "id": "53313507-3d71-403d-87d2-c15afba7d606",
      "cell_type": "code",
      "metadata": {
        "jupyter": {
          "outputs_hidden": false,
          "source_hidden": false
        },
        "noteable": {
          "cell_type": "code",
          "output_collection_id": "5f92b602-35b7-4319-b0c0-5d8aadbb114a"
        },
        "ExecuteTime": {
          "end_time": "2023-11-16T15:17:32.437077+00:00",
          "start_time": "2023-11-16T15:17:32.404504+00:00"
        }
      },
      "execution_count": null,
      "source": "write.csv(filtered, \"processed_data.csv\", row.names=FALSE)",
      "outputs": []
    },
    {
      "id": "fe596065-f2b7-44f7-ae4d-99a7d8401a39",
      "cell_type": "code",
      "metadata": {
        "jupyter": {
          "outputs_hidden": false,
          "source_hidden": false
        },
        "noteable": {
          "cell_type": "code"
        }
      },
      "execution_count": null,
      "source": "",
      "outputs": []
    }
  ],
  "metadata": {
    "kernel_info": {
      "name": "ir-4.3-noteable"
    },
    "kernelspec": {
      "display_name": "R 4.3 (Noteable)",
      "identifier": "noteable",
      "language": "R",
      "language_version": "4.3.0",
      "name": "ir-4.3-noteable"
    },
    "language_info": {
      "codemirror_mode": {
        "name": "ipython",
        "version": 3
      },
      "file_extension": ".py",
      "mimetype": "text/x-python",
      "name": "python",
      "nbconvert_exporter": "python",
      "pygments_lexer": "ipython3",
      "version": "3.11.5"
    },
    "noteable": {
      "last_delta_id": "d201930d-e744-4d28-8c0b-54029edbe95e"
    },
    "nteract": {
      "version": "noteable@2.9.0"
    },
    "selected_hardware_size": "small"
  },
  "nbformat": 4,
  "nbformat_minor": 5
}